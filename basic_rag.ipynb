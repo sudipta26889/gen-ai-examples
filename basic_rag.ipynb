{
 "cells": [
  {
   "metadata": {},
   "cell_type": "markdown",
   "source": [
    "# Basic RAG with LM Studio\n",
    "This notebook demonstrates how to use LM Studio for a basic Retrieval-Augmented Generation (RAG)"
   ],
   "id": "e52e92b76cab4ee8"
  },
  {
   "metadata": {
    "ExecuteTime": {
     "end_time": "2025-08-16T10:54:32.189736Z",
     "start_time": "2025-08-16T10:54:32.184806Z"
    }
   },
   "cell_type": "code",
   "source": [
    "import os\n",
    "from dotenv import load_dotenv\n",
    "import pandas as pd\n",
    "from tqdm.auto import tqdm\n",
    "from qdrant_client.http.exceptions import ResponseHandlingException\n",
    "# from utils.vectordb_client import add_documents_with_retry\n",
    "from langchain.text_splitter import RecursiveCharacterTextSplitter\n",
    "from utils.llm_client import lm_studio_client\n",
    "from utils.vectordb_client import get_vector_store\n",
    "\n",
    "load_dotenv()\n",
    "\n",
    "LM_STUDIO_MODEL = os.getenv(\"LM_STUDIO_MODEL\", \"qwen/qwen3-30b-a3b\")\n"
   ],
   "id": "4e7f95a84b889229",
   "outputs": [],
   "execution_count": 9
  },
  {
   "metadata": {},
   "cell_type": "markdown",
   "source": "Load datasets and prepare them for vectorization",
   "id": "fd50bd33074d8fde"
  },
  {
   "metadata": {
    "ExecuteTime": {
     "end_time": "2025-08-16T10:54:49.888749Z",
     "start_time": "2025-08-16T10:54:32.198168Z"
    }
   },
   "cell_type": "code",
   "source": [
    "tqdm.pandas(desc=\"Generating Documents\")\n",
    "df1 = pd.DataFrame()\n",
    "df2 = pd.DataFrame()\n",
    "df3 = pd.DataFrame()\n",
    "# Load all three datasets\n",
    "# df1 = pd.read_csv('./datasets/The_Flavors_of_India.csv')\n",
    "# df2 = pd.read_csv('./datasets/indian_food.csv')\n",
    "df3 = pd.read_csv('./datasets/IndianFoodDataset.csv')\n",
    "\n",
    "# Standardize column nam`es for df2\n",
    "# df2 = df2.rename(columns={\n",
    "#     'name': 'RecipeName',\n",
    "#     'ingredients': 'Ingredients',\n",
    "#     'prep_time': 'PrepTimeInMins',\n",
    "#     'cook_time': 'CookTimeInMins',\n",
    "#     'flavor_profile': 'FlavorProfile',\n",
    "#     'course': 'Course',\n",
    "#     'state': 'State',\n",
    "#     'region': 'Region'\n",
    "# })\n",
    "\n",
    "# Standardize column names for df3 to match df1 structure\n",
    "df3_standardized = df3.copy()\n",
    "# df3 already has the right column names, but let's ensure consistency\n",
    "df3_standardized = df3_standardized.rename(columns={\n",
    "    'Diet': 'diet'  # Standardize the diet column name\n",
    "})\n",
    "\n",
    "# Add missing columns to df2 to match the structure\n",
    "# df2['TranslatedRecipeName'] = df2['RecipeName']\n",
    "# df2['TranslatedIngredients'] = df2['Ingredients']\n",
    "# df2['TranslatedInstructions'] = ''\n",
    "# df2['URL'] = ''\n",
    "# df2['Cuisine'] = df2['Region']\n",
    "\n",
    "# Add missing columns to df3 to match the structure\n",
    "df3_standardized['FlavorProfile'] = ''\n",
    "df3_standardized['State'] = ''\n",
    "df3_standardized['Region'] = df3_standardized['Cuisine']\n",
    "df3_standardized['Cleaned-Ingredients'] = ''\n",
    "df3_standardized['image-url'] = ''\n",
    "df3_standardized['Ingredient-count'] = ''\n",
    "\n",
    "# Select common columns for a combination\n",
    "common_columns = [\n",
    "    'TranslatedRecipeName', 'RecipeName', 'TranslatedIngredients', 'Ingredients',\n",
    "    'PrepTimeInMins', 'CookTimeInMins', 'TotalTimeInMins', 'Cuisine', 'Course',\n",
    "    'diet', 'TranslatedInstructions', 'URL'\n",
    "]\n",
    "\n",
    "# Ensure all dataframes have these columns\n",
    "for df in [df1, df2, df3_standardized]:\n",
    "    for col in common_columns:\n",
    "        if col not in df.columns:\n",
    "            df[col] = ''\n",
    "\n",
    "# Select only common columns from each dataframe\n",
    "df1_subset = df1[common_columns]\n",
    "df2_subset = df2[common_columns]\n",
    "df3_subset = df3_standardized[common_columns]\n",
    "\n",
    "# Combine all three datasets\n",
    "combined_df = pd.concat([df1_subset, df2_subset, df3_subset], axis=0, ignore_index=True)\n",
    "\n",
    "def create_index(row):\n",
    "    name = row['TranslatedRecipeName'] if pd.notna(row['TranslatedRecipeName']) and row['TranslatedRecipeName'] != '' else row['RecipeName']\n",
    "    cuisine = row['Cuisine'] if pd.notna(row['Cuisine']) and row['Cuisine'] != '' else 'Unknown'\n",
    "    return f\"{name}_{cuisine}\"\n",
    "\n",
    "combined_df['UniqueID'] = combined_df.apply(create_index, axis=1)\n",
    "combined_df.set_index('UniqueID', inplace=True)\n",
    "combined_df = combined_df.sort_index()\n",
    "\n",
    "# Display the combined dataset info\n",
    "# print(f\"Combined dataset shape: {combined_df.shape}\")\n",
    "# print(f\"Number of recipes from df1: {len(df1)}\")\n",
    "# print(f\"Number of recipes from df2: {len(df2)}\")\n",
    "# print(f\"Number of recipes from df3: {len(df3)}\")\n",
    "# print(f\"Total combined recipes: {len(combined_df)}\")\n",
    "\n",
    "# Prepare data for vectorization\n",
    "data = combined_df[:].progress_apply(\n",
    "    lambda x: x.to_markdown(),\n",
    "    axis=1\n",
    ")\n",
    "\n",
    "# combined_df.head()"
   ],
   "id": "724abecfcabcf522",
   "outputs": [
    {
     "data": {
      "text/plain": [
       "Generating Documents:   0%|          | 0/6871 [00:00<?, ?it/s]"
      ],
      "application/vnd.jupyter.widget-view+json": {
       "version_major": 2,
       "version_minor": 0,
       "model_id": "0ecd5427341b4676a2d6b617fc49ef41"
      }
     },
     "metadata": {},
     "output_type": "display_data"
    }
   ],
   "execution_count": 10
  },
  {
   "metadata": {},
   "cell_type": "markdown",
   "source": "Now, Let's Create Documents with Proper Metadata and Put them in Vector Store",
   "id": "ffd335d4cb09961a"
  },
  {
   "metadata": {
    "ExecuteTime": {
     "end_time": "2025-08-16T10:54:49.908954Z",
     "start_time": "2025-08-16T10:54:49.905579Z"
    }
   },
   "cell_type": "code",
   "source": [
    "from langchain.schema import Document\n",
    "def create_documents_with_metadata_from_data(data_series, df):\n",
    "    \"\"\"\n",
    "    Create LangChain documents with proper metadata from the data series and original DataFrame\n",
    "    \"\"\"\n",
    "    documents = []\n",
    "\n",
    "    for idx, markdown_content in tqdm(data_series.items(), total=len(data_series), desc=\"Creating documents with metadata\"):\n",
    "        # Get the corresponding row from the original DataFrame\n",
    "        row = df.loc[idx]\n",
    "\n",
    "        # Create metadata dictionary with actual recipe fields\n",
    "        metadata = {\n",
    "            'TranslatedRecipeName': str(row.get('TranslatedRecipeName', '')),\n",
    "            'RecipeName': str(row.get('RecipeName', '')),\n",
    "            'Cuisine': str(row.get('Cuisine', '')),\n",
    "            'Diet': str(row.get('diet', '')),  # Map 'diet' column to 'Diet' metadata\n",
    "            'Course': str(row.get('Course', '')),\n",
    "            'TotalTimeInMins': str(row.get('TotalTimeInMins', '')),\n",
    "            'PrepTimeInMins': str(row.get('PrepTimeInMins', '')),\n",
    "            'CookTimeInMins': str(row.get('CookTimeInMins', '')),\n",
    "            'UniqueID': str(idx),  # Use the index as UniqueID\n",
    "        }\n",
    "\n",
    "        # Clean up empty values and NaN\n",
    "        cleaned_metadata = {}\n",
    "        for key, value in metadata.items():\n",
    "            if pd.notna(value) and str(value).strip() and str(value) != 'nan':\n",
    "                cleaned_metadata[key] = str(value).strip()\n",
    "            else:\n",
    "                cleaned_metadata[key] = ''\n",
    "\n",
    "        documents.append(Document(page_content=markdown_content, metadata=cleaned_metadata))\n",
    "\n",
    "    return documents\n"
   ],
   "id": "e69462526980cb5",
   "outputs": [],
   "execution_count": 11
  },
  {
   "metadata": {},
   "cell_type": "markdown",
   "source": "Now, Let's Chunk It using RecursiveCharacterTextSplitter and Put them in Vector Store",
   "id": "535dee7150dbb054"
  },
  {
   "metadata": {
    "ExecuteTime": {
     "end_time": "2025-08-16T11:27:07.589277Z",
     "start_time": "2025-08-16T10:54:49.914205Z"
    }
   },
   "cell_type": "code",
   "source": [
    "# Create documents with proper metadata from the existing data\n",
    "documents = create_documents_with_metadata_from_data(data, combined_df)\n",
    "\n",
    "print(f\"Created {len(documents)} documents\")\n",
    "print(\"Sample document metadata:\")\n",
    "print(documents[0].metadata)\n",
    "print(\"\\nSample document content preview:\")\n",
    "print(documents[0].page_content[:300])\n",
    "\n",
    "# Now optionally apply chunking if you want\n",
    "text_splitter = RecursiveCharacterTextSplitter(\n",
    "    chunk_size=3000,\n",
    "    chunk_overlap=500,\n",
    "    length_function=len\n",
    ")\n",
    "\n",
    "# Split documents while preserving metadata\n",
    "chunked_docs = text_splitter.split_documents(documents)\n",
    "print(f\"After chunking: {len(chunked_docs)} document chunks\")\n",
    "\n",
    "# Create the vector store and add documents\n",
    "vector_store_unchunked = get_vector_store(\"my-fav-indian-food\")\n",
    "\n",
    "# Add documents to the vector store\n",
    "try:\n",
    "    vector_store_unchunked.add_documents(chunked_docs)\n",
    "    print(f\"Successfully added {len(chunked_docs)} documents to vector store\")\n",
    "except Exception as e:\n",
    "    print(f\"Error adding documents: {e}\")\n",
    "    # If there are issues, add in batches\n",
    "    batch_size = 100\n",
    "    for i in tqdm(range(0, len(chunked_docs), batch_size), desc=\"Adding documents in batches\"):\n",
    "        batch = chunked_docs[i:i + batch_size]\n",
    "        try:\n",
    "            vector_store_unchunked.add_documents(batch)\n",
    "            print(f\"Added batch {i//batch_size + 1}\")\n",
    "        except Exception as batch_error:\n",
    "            print(f\"Error adding batch {i//batch_size + 1}: {batch_error}\")\n"
   ],
   "id": "35297a22babbf09d",
   "outputs": [
    {
     "data": {
      "text/plain": [
       "Creating documents with metadata:   0%|          | 0/6871 [00:00<?, ?it/s]"
      ],
      "application/vnd.jupyter.widget-view+json": {
       "version_major": 2,
       "version_minor": 0,
       "model_id": "7e379bf12ccc4096a04cef027323c4d4"
      }
     },
     "metadata": {},
     "output_type": "display_data"
    },
    {
     "name": "stdout",
     "output_type": "stream",
     "text": [
      "Created 6871 documents\n",
      "Sample document metadata:\n",
      "{'TranslatedRecipeName': 'Bengali Style Cholar Dal Recipe', 'RecipeName': 'बंगाली छोलार दाल रेसिपी -  Bengali Style Cholar Dal Recipe', 'Cuisine': 'Bengali Recipes', 'Diet': 'High Protein Vegetarian', 'Course': 'Lunch', 'TotalTimeInMins': '40', 'PrepTimeInMins': '10', 'CookTimeInMins': '30', 'UniqueID': 'Bengali Style Cholar Dal Recipe_Bengali Recipes'}\n",
      "\n",
      "Sample document content preview:\n",
      "|                        |   Bengali Style Cholar Dal Recipe_Bengali Recipes                                                                                                                                                                                                                                \n",
      "After chunking: 48787 document chunks\n",
      "Successfully added 48787 documents to vector store\n"
     ]
    }
   ],
   "execution_count": 12
  },
  {
   "metadata": {},
   "cell_type": "markdown",
   "source": "Now, it's time to query the vector store and get the context for our RAG model. And then we will use LM Studio to generate a response based on the user query and the context retrieved from the vector store.",
   "id": "201a29407a522af0"
  },
  {
   "metadata": {
    "ExecuteTime": {
     "end_time": "2025-08-16T11:47:18.384682Z",
     "start_time": "2025-08-16T11:46:55.139675Z"
    }
   },
   "cell_type": "code",
   "source": [
    "user_query = \"I am looking for Bengali Quick non veg dish\" # input(\"Enter your query: \")\n",
    "\n",
    "prompt = \"\"\"\n",
    "You are a helpful assistant specializing in Indian cuisine and food recipes. Based on the provided context, please answer the user's question accurately and thoroughly.\n",
    "\n",
    "Guidelines:\n",
    "- Be polite, friendly, and informative in your response\n",
    "- Use the context information to provide specific details when available\n",
    "- If the answer isn't found in the context, clearly state \"I don't have enough information about that in my knowledge base\" and offer to help with related topics you can assist with\n",
    "- When discussing recipes, include relevant details like ingredients, cooking methods, regional origins, or dietary information when available\n",
    "\n",
    "User Question: {user_query}\n",
    "\n",
    "Context Information:\n",
    "{context}\n",
    "\n",
    "Response:\n",
    "\"\"\"\n",
    "\n",
    "\n",
    "\n",
    "_docs = vector_store_unchunked.similarity_search(\n",
    "    user_query, k=5\n",
    ")\n",
    "\n",
    "context = '\\n\\n'.join(\n",
    "    [doc.page_content for doc in _docs]\n",
    ")\n",
    "\n",
    "prompt = prompt.format(\n",
    "    user_query=user_query,\n",
    "    context=context,\n",
    ")\n",
    "\n",
    "response = lm_studio_client.chat.completions.create(\n",
    "    model=LM_STUDIO_MODEL,\n",
    "    messages=[\n",
    "        {\"role\": \"user\", \"content\": prompt}\n",
    "    ]\n",
    ")\n",
    "\n",
    "response_text = response.choices[0].message.content\n",
    "\n",
    "print(response_text)\n"
   ],
   "id": "e499906382ac2ab3",
   "outputs": [
    {
     "name": "stdout",
     "output_type": "stream",
     "text": [
      "Sure! One of the quickest and most beloved non‑vegetarian Bengali dishes that you can whip up in about 20–25 minutes is **Chicken Jhal (চিকেন ঝাল)** – a spicy, aromatic chicken curry that’s perfect for lunch or dinner. Below is a simple, time‑saving recipe along with some quick tips and variations.\n",
      "\n",
      "---\n",
      "\n",
      "## Chicken Jhal (চিকেন ঝাল) – Quick Bengali Chicken Curry\n",
      "\n",
      "| **Category** | **Details** |\n",
      "|--------------|-------------|\n",
      "| **Cuisine**  | Bengali (East India) |\n",
      "| **Course**   | Lunch / Dinner |\n",
      "| **Diet**     | High‑Protein, Non‑Vegetarian |\n",
      "| **Time**     | 20–25 minutes |\n",
      "| **Serves**   | 2–3 people |\n",
      "\n",
      "### Ingredients\n",
      "\n",
      "| Ingredient | Quantity | Notes |\n",
      "|------------|----------|-------|\n",
      "| Chicken (boneless, cut into bite‑size pieces) | 300–400 g | You can use thigh or breast; thighs stay juicier |\n",
      "| Onion (thinly sliced) | 1 medium | Adds sweetness and depth |\n",
      "| Tomato (chopped or pureed) | 2 medium | For tanginess; use ripe tomatoes |\n",
      "| Green chili (slit or finely chopped) | 2–3 | Adjust to taste |\n",
      "| Ginger‑garlic paste | 1 tbsp | Roughly equal parts ginger and garlic |\n",
      "| Red chili powder | 1 tsp | For heat; reduce if you’re mild |\n",
      "| Turmeric powder | ½ tsp | Gives colour |\n",
      "| Coriander powder | 1 tbsp | Ground coriander for flavour |\n",
      "| Cumin seeds | ½ tsp | Adds nutty aroma |\n",
      "| Mustard oil (or any neutral oil) | 2 tbsp | Traditional Bengali flavour |\n",
      "| Salt | to taste | |\n",
      "| Fresh coriander (chopped) | 1 tbsp | For garnish |\n",
      "| Water or chicken stock | 1–1.5 cups | Adjust thickness |\n",
      "\n",
      "### Quick‑Prep Method\n",
      "\n",
      "1. **Heat the Oil**  \n",
      "   Warm 2 tbsp mustard oil in a pan until it starts to smoke lightly. This releases the oil’s signature flavour.\n",
      "\n",
      "2. **Sauté Aromatics**  \n",
      "   Add cumin seeds; let them crackle for a few seconds. Then add sliced onions and sauté until translucent (about 3–4 min). Add ginger‑garlic paste, green chilies, and cook for another minute until the raw smell disappears.\n",
      "\n",
      "3. **Add Tomatoes & Spices**  \n",
      "   Stir in chopped tomatoes, red chili powder, turmeric, coriander powder, and a pinch of salt. Cook until the tomatoes soften (≈4 min). If you prefer a smoother texture, blend the tomato mixture before adding.\n",
      "\n",
      "4. **Cook the Chicken**  \n",
      "   Toss in the chicken pieces, coating them well with the spice mix. Cook on medium heat for 5–6 min until the chicken starts to brown slightly.\n",
      "\n",
      "5. **Simmer**  \n",
      "   Pour in 1 cup of water (or chicken stock for richer flavour). Bring to a gentle boil, then reduce heat and let it simmer until the chicken is tender (about 6–8 min). If you like a thicker gravy, let it reduce further or add a teaspoon of besan (gram flour) mixed with water to thicken.\n",
      "\n",
      "6. **Finish & Garnish**  \n",
      "   Check seasoning, add more salt or chili if desired. Sprinkle chopped coriander on top before serving.\n",
      "\n",
      "7. **Serve**  \n",
      "   Pair with steaming white rice, paratha, or even a quick chapati. A side of cucumber raita balances the heat nicely.\n",
      "\n",
      "---\n",
      "\n",
      "## Tips for Speed & Convenience\n",
      "\n",
      "- **Pre‑cut Chicken**: Buy pre‑cubed chicken or cut it yourself ahead of time to shave minutes off prep.\n",
      "- **Use Fresh Tomato Paste**: Instead of chopping tomatoes, a tablespoon of ready‑made tomato paste speeds up the process and keeps consistency.\n",
      "- **Quick Onion**: Slice onions thinly or use pre‑sliced onion sheets to reduce chopping time.\n",
      "- **One‑Pan Cooking**: Everything is done in a single pan – no need for separate sauce pots.\n",
      "- **Adjust Heat**: Use green chilies for a milder version or add a pinch of cayenne pepper for extra kick.\n",
      "\n",
      "---\n",
      "\n",
      "## Variations\n",
      "\n",
      "| Variation | What Changes? |\n",
      "|-----------|---------------|\n",
      "| **Fish Jhal** | Replace chicken with fish fillets (tilapia or pomfret). Cook for 4–5 min. |\n",
      "| **Mutton Jhal** | Use mutton pieces; add a pinch of garam masala for depth. |\n",
      "| **Vegetarian Jhal** | Substitute chicken with paneer cubes or mixed vegetables; keep spices same. |\n",
      "\n",
      "---\n",
      "\n",
      "### Bottom Line\n",
      "\n",
      "Chicken Jhal is a quintessential Bengali quick‑non‑veg dish that delivers bold flavours in minimal time. It’s protein‑rich, easy to prepare, and pairs wonderfully with everyday staples. Give it a try next time you’re craving something hearty yet swift!\n",
      "\n",
      "Let me know if you'd like variations, portion sizing for more guests, or pairing suggestions. Happy cooking!\n"
     ]
    }
   ],
   "execution_count": 14
  }
 ],
 "metadata": {
  "kernelspec": {
   "display_name": "Python 3",
   "language": "python",
   "name": "python3"
  },
  "language_info": {
   "codemirror_mode": {
    "name": "ipython",
    "version": 2
   },
   "file_extension": ".py",
   "mimetype": "text/x-python",
   "name": "python",
   "nbconvert_exporter": "python",
   "pygments_lexer": "ipython2",
   "version": "2.7.6"
  }
 },
 "nbformat": 4,
 "nbformat_minor": 5
}
