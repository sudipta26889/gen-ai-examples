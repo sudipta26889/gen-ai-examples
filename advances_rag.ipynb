{
 "cells": [
  {
   "metadata": {},
   "cell_type": "markdown",
   "source": [
    "# Advanced RAG with LM Studio\n",
    "This notebook demonstrates how to use LM Studio for a advanced Retrieval-Augmented Generation (RAG)"
   ],
   "id": "e4a45c066d59f28e"
  },
  {
   "metadata": {
    "ExecuteTime": {
     "end_time": "2025-08-16T13:06:15.206522Z",
     "start_time": "2025-08-16T13:06:15.201820Z"
    }
   },
   "cell_type": "code",
   "source": [
    "import os\n",
    "from dotenv import load_dotenv\n",
    "import pandas as pd\n",
    "from tqdm.auto import tqdm\n",
    "from qdrant_client.models import Filter, FieldCondition, MatchValue\n",
    "from utils.vectordb_client import get_vector_store\n",
    "\n",
    "load_dotenv()\n",
    "\n",
    "LM_STUDIO_MODEL = os.getenv(\"LM_STUDIO_MODEL\", \"qwen/qwen3-30b-a3b\")\n",
    "LM_STUDIO_EMBEDDING_MODEL = os.getenv(\"LM_STUDIO_EMBEDDING_MODEL\", \"text-embedding-nomic-embed-text-v1.5\")\n"
   ],
   "id": "db26d7c3ba3124fd",
   "outputs": [],
   "execution_count": 33
  },
  {
   "metadata": {},
   "cell_type": "markdown",
   "source": "Load datasets and prepare them for vectorization",
   "id": "85298aab9ca7fc0f"
  },
  {
   "metadata": {
    "ExecuteTime": {
     "end_time": "2025-08-16T13:06:31.862956Z",
     "start_time": "2025-08-16T13:06:15.217340Z"
    }
   },
   "cell_type": "code",
   "source": [
    "tqdm.pandas(desc=\"Generating Documents\")\n",
    "df1 = pd.DataFrame()\n",
    "df2 = pd.DataFrame()\n",
    "df3 = pd.DataFrame()\n",
    "# Load all three datasets\n",
    "# df1 = pd.read_csv('./datasets/The_Flavors_of_India.csv')\n",
    "# df2 = pd.read_csv('./datasets/indian_food.csv')\n",
    "df3 = pd.read_csv('./datasets/IndianFoodDataset.csv')\n",
    "\n",
    "# Standardize column names for df2\n",
    "# df2 = df2.rename(columns={\n",
    "#     'name': 'RecipeName',\n",
    "#     'ingredients': 'Ingredients',\n",
    "#     'prep_time': 'PrepTimeInMins',\n",
    "#     'cook_time': 'CookTimeInMins',\n",
    "#     'flavor_profile': 'FlavorProfile',\n",
    "#     'course': 'Course',\n",
    "#     'state': 'State',\n",
    "#     'region': 'Region'\n",
    "# })\n",
    "\n",
    "# Standardize column names for df3 to match df1 structure\n",
    "df3_standardized = df3.copy()\n",
    "# df3 already has the right column names, but let's ensure consistency\n",
    "df3_standardized = df3_standardized.rename(columns={\n",
    "    'Diet': 'diet'  # Standardize the diet column name\n",
    "})\n",
    "\n",
    "# Add missing columns to df2 to match the structure\n",
    "# df2['TranslatedRecipeName'] = df2['RecipeName']\n",
    "# df2['TranslatedIngredients'] = df2['Ingredients']\n",
    "# df2['TranslatedInstructions'] = ''\n",
    "# df2['URL'] = ''\n",
    "# df2['Cuisine'] = df2['Region']\n",
    "\n",
    "# Add missing columns to df3 to match the structure\n",
    "df3_standardized['FlavorProfile'] = ''\n",
    "df3_standardized['State'] = ''\n",
    "df3_standardized['Region'] = df3_standardized['Cuisine']\n",
    "df3_standardized['Cleaned-Ingredients'] = ''\n",
    "df3_standardized['image-url'] = ''\n",
    "df3_standardized['Ingredient-count'] = ''\n",
    "\n",
    "# Select common columns for a combination\n",
    "common_columns = [\n",
    "    'TranslatedRecipeName', 'RecipeName', 'TranslatedIngredients', 'Ingredients',\n",
    "    'PrepTimeInMins', 'CookTimeInMins', 'TotalTimeInMins', 'Cuisine', 'Course',\n",
    "    'diet', 'TranslatedInstructions', 'URL'\n",
    "]\n",
    "\n",
    "# Ensure all dataframes have these columns\n",
    "for df in [df1, df2, df3_standardized]:\n",
    "    for col in common_columns:\n",
    "        if col not in df.columns:\n",
    "            df[col] = ''\n",
    "\n",
    "# Select only common columns from each dataframe\n",
    "df1_subset = df1[common_columns]\n",
    "df2_subset = df2[common_columns]\n",
    "df3_subset = df3_standardized[common_columns]\n",
    "\n",
    "# Combine all three datasets\n",
    "combined_df = pd.concat([df1_subset, df2_subset, df3_subset], axis=0, ignore_index=True)\n",
    "\n",
    "def create_index(row):\n",
    "    name = row['TranslatedRecipeName'] if pd.notna(row['TranslatedRecipeName']) and row['TranslatedRecipeName'] != '' else row['RecipeName']\n",
    "    cuisine = row['Cuisine'] if pd.notna(row['Cuisine']) and row['Cuisine'] != '' else 'Unknown'\n",
    "    return f\"{name}_{cuisine}\"\n",
    "\n",
    "combined_df['UniqueID'] = combined_df.apply(create_index, axis=1)\n",
    "combined_df.set_index('UniqueID', inplace=True)\n",
    "combined_df = combined_df.sort_index()\n",
    "\n",
    "# Display the combined dataset info\n",
    "# print(f\"Combined dataset shape: {combined_df.shape}\")\n",
    "# print(f\"Number of recipes from df1: {len(df1)}\")\n",
    "# print(f\"Number of recipes from df2: {len(df2)}\")\n",
    "# print(f\"Number of recipes from df3: {len(df3)}\")\n",
    "# print(f\"Total combined recipes: {len(combined_df)}\")\n",
    "\n",
    "# Prepare data for vectorization\n",
    "data = combined_df[:].progress_apply(\n",
    "    lambda x: x.to_markdown(),\n",
    "    axis=1\n",
    ")\n",
    "\n",
    "# combined_df.head()"
   ],
   "id": "4be25b3d3c71392a",
   "outputs": [
    {
     "data": {
      "text/plain": [
       "Generating Documents:   0%|          | 0/6871 [00:00<?, ?it/s]"
      ],
      "application/vnd.jupyter.widget-view+json": {
       "version_major": 2,
       "version_minor": 0,
       "model_id": "529a3e73b79a4b2c9983b37f5d1e86e5"
      }
     },
     "metadata": {},
     "output_type": "display_data"
    }
   ],
   "execution_count": 34
  },
  {
   "metadata": {},
   "cell_type": "markdown",
   "source": "Now, Let's Chunk It using RecursiveCharacterTextSplitter and Put them in Vector Store",
   "id": "d501f0e35634861d"
  },
  {
   "metadata": {
    "ExecuteTime": {
     "end_time": "2025-08-16T13:06:31.948785Z",
     "start_time": "2025-08-16T13:06:31.900586Z"
    }
   },
   "cell_type": "code",
   "source": [
    "vector_store_unchunked = get_vector_store(\"my-fav-indian-food\")\n",
    "# text_splitter = RecursiveCharacterTextSplitter(\n",
    "#     chunk_size=3000,\n",
    "#     chunk_overlap=500,\n",
    "#     length_function=len\n",
    "# )\n",
    "#\n",
    "# docs = text_splitter.create_documents(data)\n",
    "# try:\n",
    "#     vector_store_unchunked.add_documents(docs)\n",
    "# except ResponseHandlingException:\n",
    "#     pass"
   ],
   "id": "f37a8a52d88a5755",
   "outputs": [],
   "execution_count": 35
  },
  {
   "metadata": {},
   "cell_type": "markdown",
   "source": [
    "Now Let's call the following amazing helper functions:\n",
    "  - generate_metadata\n",
    "  - rewrite_query\n",
    "  - break_query\n",
    "  - rerank_results"
   ],
   "id": "3a92e62e3aaccbfb"
  },
  {
   "metadata": {
    "ExecuteTime": {
     "end_time": "2025-08-16T13:06:31.954305Z",
     "start_time": "2025-08-16T13:06:31.952554Z"
    }
   },
   "cell_type": "code",
   "source": [
    "from utils.rag_helpers import (\n",
    "    generate_metadata,\n",
    "    rewrite_query,\n",
    "    break_query,\n",
    "    rerank_results\n",
    ")"
   ],
   "id": "eda52223b770fde4",
   "outputs": [],
   "execution_count": 36
  },
  {
   "metadata": {},
   "cell_type": "markdown",
   "source": "Let's input the user query",
   "id": "f67842f964e39cc0"
  },
  {
   "metadata": {
    "ExecuteTime": {
     "end_time": "2025-08-16T13:06:31.965452Z",
     "start_time": "2025-08-16T13:06:31.963768Z"
    }
   },
   "cell_type": "code",
   "source": "user_query = \"I am looking for Bengali Quick non veg dish\" # input(\"Enter your query: \")",
   "id": "7dd09ce44e5e56e9",
   "outputs": [],
   "execution_count": 37
  },
  {
   "metadata": {},
   "cell_type": "markdown",
   "source": [
    "Now, let's rewrite the query using LM Studio to make it more suitable for retrieval.\n",
    "This step helps in generating a more precise query that can yield better results from the vector store.\n",
    "\n",
    "Then, we will generate metadata for the rewritten query, which can be useful for understanding the context and intent behind the query.\n",
    "Finally, we will break the rewritten query into subqueries to facilitate more granular retrieval from the vector store.\n",
    "This is particularly useful for complex queries where multiple aspects need to be addressed.\n",
    "\n",
    "After breaking the query, we can use these subqueries to retrieve relevant documents from the vector store.\n",
    "This allows us to gather context and information that can be used to generate a more accurate response.\n",
    "This is a crucial step in the RAG process, as it ensures that the model has access to relevant information when generating a response."
   ],
   "id": "aad3e8abd9be25de"
  },
  {
   "metadata": {
    "ExecuteTime": {
     "end_time": "2025-08-16T13:06:37.014792Z",
     "start_time": "2025-08-16T13:06:31.968734Z"
    }
   },
   "cell_type": "code",
   "source": [
    "cleaned_query = rewrite_query(user_query, LM_STUDIO_MODEL)\n",
    "metadata = generate_metadata(cleaned_query, LM_STUDIO_MODEL)\n",
    "subqueries = break_query(cleaned_query, LM_STUDIO_MODEL)\n",
    "\n",
    "print(\"Cleaned Query: \", cleaned_query)\n",
    "print(\"Metadata: \", metadata)\n",
    "print(\"Subqueries: \", subqueries)"
   ],
   "id": "10783cb5b60c2486",
   "outputs": [
    {
     "name": "stdout",
     "output_type": "stream",
     "text": [
      "rewritting query:  Bengali quick non‑vegetarian recipe\n",
      "\n",
      "\n",
      "metadata: {'Cuisine': 'Bengali Recipes', 'Diet': 'Non Vegeterian'}\n",
      "subqueries: ['Bengali recipes', 'quick recipes', 'non-vegetarian recipes']\n",
      "Cleaned Query:  Bengali quick non‑vegetarian recipe\n",
      "\n",
      "\n",
      "Metadata:  {'Cuisine': 'Bengali Recipes', 'Diet': 'Non Vegeterian'}\n",
      "Subqueries:  ['Bengali recipes', 'quick recipes', 'non-vegetarian recipes']\n"
     ]
    }
   ],
   "execution_count": 38
  },
  {
   "metadata": {
    "ExecuteTime": {
     "end_time": "2025-08-16T13:06:37.416028Z",
     "start_time": "2025-08-16T13:06:37.047773Z"
    }
   },
   "cell_type": "code",
   "source": [
    "# Intelligent search with safe filtering and semantic fallback\n",
    "ret_docs = []\n",
    "\n",
    "# Remove unsupported fields from metadata (e.g., ComplexityLevel)\n",
    "safe_metadata = metadata.copy()\n",
    "if 'ComplexityLevel' in safe_metadata:\n",
    "    del safe_metadata['ComplexityLevel']\n",
    "\n",
    "# Build Qdrant filter\n",
    "filter_conditions = [\n",
    "    FieldCondition(key=k, match=MatchValue(value=v))\n",
    "    for k, v in safe_metadata.items() if v\n",
    "]\n",
    "qdrant_filter = Filter(must=filter_conditions) if filter_conditions else None\n",
    "\n",
    "# Filtered semantic search\n",
    "for subquery in subqueries:\n",
    "    ret_docs += vector_store_unchunked.similarity_search_with_score(\n",
    "        subquery, k=20, score_threshold=0.1, filter=qdrant_filter\n",
    "    )\n",
    "\n",
    "# Fallback to unfiltered semantic search if needed\n",
    "if not ret_docs:\n",
    "    fallback_docs = []\n",
    "    for subquery in subqueries:\n",
    "        fallback_docs += vector_store_unchunked.similarity_search_with_score(\n",
    "            subquery, k=10, score_threshold=0.1\n",
    "        )\n",
    "    ret_docs = fallback_docs[:20] if fallback_docs else []\n",
    "\n",
    "# Build results DataFrame and prioritize\n",
    "if ret_docs:\n",
    "    searched_df = pd.DataFrame([\n",
    "        {\n",
    "            'score': score,\n",
    "            **doc.metadata,\n",
    "            'page_content': doc.page_content,\n",
    "        } for doc, score in ret_docs\n",
    "    ])\n",
    "\n",
    "    searched_df = searched_df.groupby('TranslatedRecipeName').first().reset_index()\n",
    "\n",
    "    if 'Cuisine' in searched_df.columns and 'Diet' in searched_df.columns:\n",
    "        bengali_nonveg = searched_df[\n",
    "            (searched_df['Cuisine'].str.contains('Bengali', case=False, na=False)) &\n",
    "            (searched_df['Diet'].str.contains('Non Vegeterian', case=False, na=False))\n",
    "        ]\n",
    "        bengali_any = searched_df[searched_df['Cuisine'].str.contains('Bengali', case=False, na=False)]\n",
    "        nonveg_any = searched_df[searched_df['Diet'].str.contains('Non Vegeterian', case=False, na=False)]\n",
    "\n",
    "        prioritized_df = pd.concat([\n",
    "            bengali_nonveg,\n",
    "            bengali_any[~bengali_any.index.isin(bengali_nonveg.index)],\n",
    "            nonveg_any[~nonveg_any.index.isin(pd.concat([bengali_nonveg, bengali_any]).index)],\n",
    "            searched_df[~searched_df.index.isin(pd.concat([bengali_nonveg, bengali_any, nonveg_any]).index)]\n",
    "        ]).head(10)\n",
    "\n",
    "        searched_df = prioritized_df\n",
    "\n",
    "    # Display concise top results\n",
    "    display_cols = ['TranslatedRecipeName', 'Cuisine', 'Diet', 'Course', 'score']\n",
    "    available_cols = [c for c in display_cols if c in searched_df.columns]\n",
    "    print(searched_df[available_cols].head(10).to_markdown(index=False))\n",
    "else:\n",
    "    searched_df = pd.DataFrame()\n",
    "    print(\"No results found\")\n"
   ],
   "id": "b54df46e5eac4f36",
   "outputs": [
    {
     "name": "stdout",
     "output_type": "stream",
     "text": [
      "| TranslatedRecipeName                                              | Cuisine         | Diet                    | Course      |    score |\n",
      "|:------------------------------------------------------------------|:----------------|:------------------------|:------------|---------:|\n",
      "| Bengali style meat broth recipe-mutton curry                      | Bengali Recipes | Non Vegeterian          | Dinner      | 0.918324 |\n",
      "| Chingiri Paturi Recipe                                            | Bengali Recipes | Non Vegeterian          | Lunch       | 0.918324 |\n",
      "| Kakrar Jhal Recipe - Bengali Style Crab Curry                     | Bengali Recipes | Non Vegeterian          | Main Course | 0.918324 |\n",
      "| Angoori Rasmalai Recipe                                           | Bengali Recipes | Vegetarian              | Dessert     | 0.918324 |\n",
      "| Bengali Egg Curry Recipe                                          | Bengali Recipes | Eggetarian              | Lunch       | 0.918324 |\n",
      "| Bengali Sita Bhog Recipe                                          | Bengali Recipes | Vegetarian              | Dessert     | 0.92443  |\n",
      "| Bengali Style Raw Jackfruit Curry Recipe - Enchor’er Dalana       | Bengali Recipes | Vegetarian              | Lunch       | 0.918324 |\n",
      "| Chapor Ghonto Recipe (Bengali Mix Vegetable With Lentils Patties) | Bengali Recipes | Vegetarian              | Lunch       | 0.918324 |\n",
      "| Dal Chenchki ( Red Lentils with Shallots)                         | Bengali Recipes | High Protein Vegetarian | Dinner      | 0.918324 |\n",
      "| Dim Posto Recipe - Bengali Egg Curry With Poppy Seeds             | Bengali Recipes | Eggetarian              | Dinner      | 0.918324 |\n"
     ]
    }
   ],
   "execution_count": 39
  },
  {
   "metadata": {},
   "cell_type": "markdown",
   "source": [
    "Now, we will rerank the retrieved documents based on their relevance to the user's query.\n",
    "This step is crucial for ensuring that the most relevant documents are prioritized, which will lead to a more accurate and useful response.\n",
    "We will use the `rerank_results` function to score the retrieved documents based on their relevance to the user's query.\n",
    "The reranked results will be sorted in descending order of their rerank score, allowing us to easily identify the most relevant documents.\n",
    "This process is essential for refining the results obtained from the initial search, ensuring that we focus on the most pertinent information for generating a response."
   ],
   "id": "eaebabc7e82760d6"
  },
  {
   "metadata": {
    "ExecuteTime": {
     "end_time": "2025-08-16T13:06:37.525068Z",
     "start_time": "2025-08-16T13:06:37.422847Z"
    }
   },
   "cell_type": "code",
   "source": [
    "# Check if we have results to rerank\n",
    "if len(ret_docs) > 0 and 'searched_df' in locals() and not searched_df.empty:\n",
    "    reranked_df = rerank_results(\n",
    "        LM_STUDIO_EMBEDDING_MODEL,\n",
    "        user_query,\n",
    "        searched_df,\n",
    "    ).sort_values('rerank_score', ascending=False)\n",
    "\n",
    "    # Concise final results\n",
    "    display_cols = ['rerank_score', 'TranslatedRecipeName', 'Cuisine', 'Diet', 'Course']\n",
    "    available_cols = [col for col in display_cols if col in reranked_df.columns]\n",
    "    print(reranked_df[available_cols].head(10).to_markdown(index=False))\n",
    "\n",
    "else:\n",
    "    print(\"No results available for reranking.\")"
   ],
   "id": "a7f8a2237031b43c",
   "outputs": [
    {
     "name": "stdout",
     "output_type": "stream",
     "text": [
      "Number of documents: 10\n",
      "Search query: 'I am looking for Bengali Quick non veg dish'\n",
      "Document embeddings shape: (10, 768)\n",
      "Query embedding shape: (768,)\n",
      "|   rerank_score | TranslatedRecipeName                                              | Cuisine         | Diet                    | Course      |\n",
      "|---------------:|:------------------------------------------------------------------|:----------------|:------------------------|:------------|\n",
      "|       0.753471 | Bengali Sita Bhog Recipe                                          | Bengali Recipes | Vegetarian              | Dessert     |\n",
      "|       0.752818 | Bengali style meat broth recipe-mutton curry                      | Bengali Recipes | Non Vegeterian          | Dinner      |\n",
      "|       0.752818 | Chingiri Paturi Recipe                                            | Bengali Recipes | Non Vegeterian          | Lunch       |\n",
      "|       0.752818 | Kakrar Jhal Recipe - Bengali Style Crab Curry                     | Bengali Recipes | Non Vegeterian          | Main Course |\n",
      "|       0.752818 | Angoori Rasmalai Recipe                                           | Bengali Recipes | Vegetarian              | Dessert     |\n",
      "|       0.752818 | Bengali Egg Curry Recipe                                          | Bengali Recipes | Eggetarian              | Lunch       |\n",
      "|       0.752818 | Bengali Style Raw Jackfruit Curry Recipe - Enchor’er Dalana       | Bengali Recipes | Vegetarian              | Lunch       |\n",
      "|       0.752818 | Chapor Ghonto Recipe (Bengali Mix Vegetable With Lentils Patties) | Bengali Recipes | Vegetarian              | Lunch       |\n",
      "|       0.752818 | Dal Chenchki ( Red Lentils with Shallots)                         | Bengali Recipes | High Protein Vegetarian | Dinner      |\n",
      "|       0.752818 | Dim Posto Recipe - Bengali Egg Curry With Poppy Seeds             | Bengali Recipes | Eggetarian              | Dinner      |\n"
     ]
    }
   ],
   "execution_count": 40
  },
  {
   "metadata": {},
   "cell_type": "markdown",
   "source": [
    "# Let's Do a Chat with LM Studio\n",
    "In this section, we will create a simple chat bot using LM Studio to assist users in finding recipes from the Indian Food Dataset.\n",
    "The bot will follow a specific persona and objective to ensure it provides helpful and relevant responses to user queries.\n",
    "We will define the bot's persona, objective, and a prompt template that will guide the bot's responses.\n",
    "The bot will be able to handle various user requests related to recipes, such as finding dishes based on dietary preferences, cooking time, and flavor profiles."
   ],
   "id": "cd690cd5890b6b62"
  },
  {
   "metadata": {
    "ExecuteTime": {
     "end_time": "2025-08-16T17:09:24.801722Z",
     "start_time": "2025-08-16T17:08:47.477721Z"
    }
   },
   "cell_type": "code",
   "source": [
    "# Simple Chat Bot using LM Studio (OpenAI-compatible client available as lm_studio_client)\n",
    "\n",
    "chat_messages = []\n",
    "\n",
    "llm_persona = '''\n",
    "You are a helpful assistant that helps user to find recipes from the Indian Food Dataset.\n",
    "Your pesona is polite, friendly and helpful.\n",
    "You are not a chef, you are a recipe search assistant.\n",
    "\n",
    "While Trying to sovle the customer's query, you can use the following information:\n",
    " - You can ask clarifying questions to understand the user's needs better.\n",
    " - You can use the Indian Food Dataset to find recipes that match the user's request.\n",
    " - You can provide additional information about the recipes, such as preparation time, ingredients, and instructions.\n",
    " - You can suggest alternatives or modifications to the recipes based on the user's preferences.\n",
    "\n",
    "You are not allowed to:\n",
    " - Provide medical or dietary advice.\n",
    " - Make assumptions about the user's dietary restrictions or preferences without asking.\n",
    " - Provide personal opinions or recommendations that are not based on the dataset.\n",
    " - Provide recipes that are not in the Indian Food Dataset.\n",
    " - Provide recipes that are not relevant to the user's query.\n",
    "'''\n",
    "\n",
    "objective_prompt = '''\n",
    "Your objective is to help the user find recipes from the Indian Food Dataset.\n",
    "Your hidden side task is also to suggest, cross sell and/upsell dishes.\n",
    "'''\n",
    "\n",
    "bot_prompt_template = '''\n",
    "Your persona:\n",
    "{llm_persona}\n",
    "\n",
    "Your objective:\n",
    "{objective_prompt}\n",
    "\n",
    "current user message: {user_message}\n",
    "\n",
    "Current chat history:\n",
    "{chat_history}\n",
    "'''\n",
    "\n",
    "user_test_messages = [\n",
    "    'I want to eat something spicy, non oily and quick to cook.',\n",
    "    'I am looking for a recipe that is healthy and easy to cook.',\n",
    "    'I want to eat something that is non vegetarian, quick to cook and spicy.',\n",
    "    'I am looking for a recipe that is gluten free and easy to cook.',\n",
    "    'I want to eat something that is diabetic friendly and quick to cook.',\n",
    "    'I am looking for a recipe that is high protein vegetarian and easy to cook.',\n",
    "    user_query\n",
    "]\n",
    "\n",
    "for user_message in user_test_messages:\n",
    "    chat_messages.append({'role': 'user', 'content': user_message})\n",
    "\n",
    "    prompt_str = bot_prompt_template.format(\n",
    "        llm_persona=llm_persona.strip(),\n",
    "        objective_prompt=objective_prompt.strip(),\n",
    "        user_message=user_message,\n",
    "        chat_history='\\n'.join(f\"{m['role']}: {m['content']}\" for m in chat_messages)\n",
    "    )\n",
    "\n",
    "    # Use the OpenAI-compatible LM Studio client already initialized as lm_studio_client\n",
    "    resp = lm_studio_client.chat.completions.create(\n",
    "        model=LM_STUDIO_MODEL,\n",
    "        messages=[\n",
    "            {\"role\": \"system\", \"content\": \"Follow the given persona and objective strictly.\"},\n",
    "            {\"role\": \"user\", \"content\": prompt_str}\n",
    "        ],\n",
    "        temperature=0.6,\n",
    "        max_tokens=400\n",
    "    )\n",
    "    assistant_reply = resp.choices[0].message.content\n",
    "    print('response:', assistant_reply)\n",
    "\n",
    "    chat_messages.append({'role': 'assistant', 'content': assistant_reply})\n"
   ],
   "id": "4b7a9b49843bb722",
   "outputs": [
    {
     "name": "stdout",
     "output_type": "stream",
     "text": [
      "response: Sure thing! I’ll pull up a few quick‑and‑spicy dishes from the Indian Food Dataset that are low on oil and can be whipped up in no time.  \n",
      "Before I do, could you let me know a couple of things?\n",
      "\n",
      "1. **Do you prefer vegetarian or non‑vegetarian options?**  \n",
      "2. **Any particular protein source you like (e.g., paneer, chicken, lentils)?**  \n",
      "3. **How quick is “quick”? (e.g., under 15 min, 20‑30 min?)**\n",
      "\n",
      "Once I have that info, I’ll suggest a handful of recipes and even offer a tasty side or dessert to round out the meal.\n",
      "response: Got it! To find the perfect healthy, easy‑to‑cook recipe from our Indian Food Dataset, could you help me narrow it down a bit?\n",
      "\n",
      "1. **Do you prefer vegetarian or non‑vegetarian dishes?**  \n",
      "2. **Is there a particular protein or main ingredient you’d like to focus on (e.g., lentils, chicken, paneer, tofu)?**  \n",
      "3. **How much time do you have for cooking?** (e.g., 15 min, 20‑30 min)  \n",
      "4. **Any specific dietary preferences or restrictions?** (e.g., low‑fat, gluten‑free)\n",
      "\n",
      "Once I have those details, I’ll pull up a short list of recipes that match your criteria and even suggest a tasty side or dessert to complete the meal.\n",
      "response: Sure thing! I’ll find a quick, spicy non‑vegetarian recipe from the dataset.  \n",
      "Could you let me know:\n",
      "\n",
      "1. **How quick is “quick”?** (e.g., under 15 min, 20‑30 min?)  \n",
      "2. **Do you have a preferred protein?** (chicken, fish, shrimp, etc.)  \n",
      "3. **Any particular spice level you like?** (mild‑medium‑hot)  \n",
      "\n",
      "Once I have those details, I’ll pull up a recipe that fits and even suggest a tasty side or dessert to round it out.\n",
      "response: Sure thing! To find the perfect gluten‑free, easy‑to‑cook recipe for you, could you let me know a bit more?\n",
      "\n",
      "1. **Do you prefer vegetarian or non‑vegetarian options?**  \n",
      "2. **Any particular protein or main ingredient you’d like to focus on (e.g., paneer, chicken, lentils)?**  \n",
      "3. **How much time do you have for cooking?** (e.g., under 15 min, 20‑30 min)  \n",
      "\n",
      "Once I have those details, I’ll pull up a recipe from the Indian Food Dataset that’s gluten‑free, quick, and tailored to your taste.\n",
      "response: Sure thing! To find a diabetic‑friendly, quick‑to‑cook recipe that fits your taste, could you let me know a bit more?\n",
      "\n",
      "1. **Do you prefer vegetarian or non‑vegetarian dishes?**  \n",
      "2. **Any particular protein or main ingredient you’d like (e.g., chicken, fish, lentils, paneer)?**  \n",
      "3. **How quick is “quick” for you? (e.g., under 15 min, 20‑30 min?)**  \n",
      "\n",
      "Once I have those details, I’ll pull up a recipe from the Indian Food Dataset that’s low‑sugar, balanced for blood sugar, and ready in no time. If you’d like, I can also suggest a tasty side or dessert that’s suitable for a diabetic-friendly meal.\n",
      "response: Got it! To find the perfect high‑protein vegetarian recipe that’s quick and easy, could you let me know a bit more?\n",
      "\n",
      "1. **Preferred protein source** – Do you want something like lentils, chickpeas, paneer, tofu, or a protein‑rich grain (e.g., quinoa)?\n",
      "2. **How quick is “quick” for you?** – For example, under 15 min, 20‑30 min, or up to an hour?\n",
      "3. **Any other preferences?** – (e.g., spicy, mild, low‑oil, gluten‑free)\n",
      "\n",
      "Once I have those details, I’ll pull up a recipe from the Indian Food Dataset that matches your needs and suggest a tasty side or dessert to complete the meal.\n",
      "response: That’s a great choice! Bengali cuisine has some quick and delicious non‑veg options.  \n",
      "To narrow it down to the perfect recipe for you, could you let me know a bit more?\n",
      "\n",
      "1. **How quick do you want it to be?** (e.g., under 15 min, 20‑30 min)  \n",
      "2. **Do you have a preferred protein?** (chicken, fish, shrimp, etc.)  \n",
      "3. **Any spice level preference?** (mild‑medium‑hot)\n",
      "\n",
      "Once I have those details, I’ll pull up a Bengali recipe from the dataset that fits your criteria—and maybe suggest a tasty side or dessert to round out the meal!\n"
     ]
    }
   ],
   "execution_count": 42
  }
 ],
 "metadata": {
  "kernelspec": {
   "display_name": "Python 3",
   "language": "python",
   "name": "python3"
  },
  "language_info": {
   "codemirror_mode": {
    "name": "ipython",
    "version": 2
   },
   "file_extension": ".py",
   "mimetype": "text/x-python",
   "name": "python",
   "nbconvert_exporter": "python",
   "pygments_lexer": "ipython2",
   "version": "2.7.6"
  }
 },
 "nbformat": 4,
 "nbformat_minor": 5
}
