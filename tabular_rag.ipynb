{
 "cells": [
  {
   "metadata": {},
   "cell_type": "markdown",
   "source": [
    "# Tabular RAG with LM Studio\n",
    "This notebook demonstrates how to use LM Studio for a tabular Retrieval-Augmented Generation (TRAG)"
   ],
   "id": "d819a30f9c091e4e"
  },
  {
   "metadata": {
    "ExecuteTime": {
     "end_time": "2025-08-16T17:34:47.933392Z",
     "start_time": "2025-08-16T17:34:47.357946Z"
    }
   },
   "cell_type": "code",
   "source": [
    "from utils.llm_client import lm_studio_client, LM_STUDIO_MODEL\n",
    "from sqlalchemy import create_engine\n",
    "import pandas as pd"
   ],
   "id": "f46ffe5551c51e58",
   "outputs": [],
   "execution_count": 1
  },
  {
   "metadata": {},
   "cell_type": "markdown",
   "source": [
    "Can LLM response without any context?\n",
    "Let's try to ask a question without any context."
   ],
   "id": "795e6c058ee9d270"
  },
  {
   "cell_type": "code",
   "id": "initial_id",
   "metadata": {
    "collapsed": true,
    "ExecuteTime": {
     "end_time": "2025-08-16T17:34:49.434813Z",
     "start_time": "2025-08-16T17:34:47.938158Z"
    }
   },
   "source": [
    "user_query = '''What's the release year of 'X'?'''\n",
    "\n",
    "prompt = f\"\"\"\n",
    "User Query: {user_query}\n",
    "\"\"\"\n",
    "\n",
    "response = lm_studio_client.chat.completions.create(\n",
    "    model=LM_STUDIO_MODEL,\n",
    "    messages=[\n",
    "        {\"role\": \"user\", \"content\": prompt}\n",
    "    ]\n",
    ")\n",
    "\n",
    "response_text = response.choices[0].message.content\n",
    "\n",
    "print(response_text)"
   ],
   "outputs": [
    {
     "name": "stdout",
     "output_type": "stream",
     "text": [
      "I’m happy to help! Could you let me know the full title of the work (movie, album, game, etc.) called “X” that you’re asking about?\n"
     ]
    }
   ],
   "execution_count": 2
  },
  {
   "metadata": {},
   "cell_type": "markdown",
   "source": [
    "Now we need to generate a SQL query based on the user query.\n",
    "We will use LM Studio to generate the SQL query."
   ],
   "id": "d3e29b29a8ea6f02"
  },
  {
   "metadata": {
    "ExecuteTime": {
     "end_time": "2025-08-16T17:34:53.457366Z",
     "start_time": "2025-08-16T17:34:49.476932Z"
    }
   },
   "cell_type": "code",
   "source": [
    "user_query = '''What's the release year of 'X'?'''\n",
    "\n",
    "prompt = f\"\"\"\n",
    "You are an AI assistant that can answer questions about a movie database.\n",
    "The database contains information about movies, directors, actors, studios, genres, cast members, and reviews.\n",
    "Your task is to answer the user's query based on the provided database information.\n",
    "\n",
    "User Query: {user_query}\n",
    "\n",
    "Generate a SQL query to retrieve the requested information from the database.\n",
    "\"\"\"\n",
    "\n",
    "response = lm_studio_client.chat.completions.create(\n",
    "    model=LM_STUDIO_MODEL,\n",
    "    messages=[\n",
    "        {\"role\": \"user\", \"content\": prompt}\n",
    "    ]\n",
    ")\n",
    "\n",
    "response_text = response.choices[0].message.content\n",
    "\n",
    "print(response_text)"
   ],
   "id": "eb04634d1761ff3c",
   "outputs": [
    {
     "name": "stdout",
     "output_type": "stream",
     "text": [
      "```sql\n",
      "-- Retrieve the release year for the movie titled 'X'\n",
      "SELECT \n",
      "    EXTRACT(YEAR FROM release_date) AS release_year\n",
      "FROM \n",
      "    movies\n",
      "WHERE \n",
      "    title = 'X';\n",
      "```\n",
      "\n",
      "*Explanation:*  \n",
      "- `release_date` is assumed to be a DATE/TIMESTAMP column that stores the full release date.  \n",
      "- `EXTRACT(YEAR FROM ...)` pulls out just the year portion.  \n",
      "- Adjust column names (`release_date`, `title`) if your schema uses different names.\n"
     ]
    }
   ],
   "execution_count": 3
  },
  {
   "metadata": {},
   "cell_type": "markdown",
   "source": [
    "Well it generated a SQL query, but we need to execute it against the database to get the answer.\n",
    "Let's assume we have a database connection set up and we can execute the query."
   ],
   "id": "e32eb6407e5b688d"
  },
  {
   "metadata": {
    "ExecuteTime": {
     "end_time": "2025-08-16T17:34:53.487583Z",
     "start_time": "2025-08-16T17:34:53.474016Z"
    }
   },
   "cell_type": "code",
   "source": [
    "engine = create_engine(f'sqlite:///datasets/movies.db')\n",
    "\n",
    "movie_name = pd.read_sql('select title from movies', engine).sample(1).title.values[0]\n",
    "\n",
    "print('Working with Movie Name: ', movie_name )"
   ],
   "id": "25530c5cbb06f745",
   "outputs": [
    {
     "name": "stdout",
     "output_type": "stream",
     "text": [
      "Working with Movie Name:  Food Dogs Of The Age Music Theory\n"
     ]
    }
   ],
   "execution_count": 4
  },
  {
   "metadata": {},
   "cell_type": "markdown",
   "source": "# Now we can execute the SQL query generated by the LLM against the database.",
   "id": "c3852da82f7bb1c7"
  },
  {
   "metadata": {
    "ExecuteTime": {
     "end_time": "2025-08-16T17:35:08.989358Z",
     "start_time": "2025-08-16T17:34:53.499877Z"
    }
   },
   "cell_type": "code",
   "source": [
    "# Sample Queries\n",
    "prompt = \"\"\"\n",
    "You are an AI assistant that can answer questions about a movie database.\n",
    "The database contains information about movies, directors, actors, studios, genres, cast members, and reviews.\n",
    "Your task is to answer the user's query based on the provided database information.\n",
    "\n",
    "User Query: {user_query}\n",
    "\n",
    "Generate a SQL query to retrieve the requested information from the database.\n",
    "database: sqlite:///datasets/movies.db\n",
    "\"\"\"\n",
    "\n",
    "user_queries = [\n",
    "    f\"What's the release year of '{movie_name}'?\",\n",
    "    f\"Who directed the movie '{movie_name}'?\",\n",
    "    f\"List all actors in the movie '{movie_name}'.\",\n",
    "    f\"What are the genres of the movie '{movie_name}'?\",\n",
    "]\n",
    "sql_queries = []\n",
    "for user_query in user_queries:\n",
    "    response = lm_studio_client.chat.completions.create(\n",
    "        model=LM_STUDIO_MODEL,\n",
    "        messages=[\n",
    "            {\"role\": \"user\", \"content\": prompt.format(user_query=user_query)}\n",
    "        ]\n",
    "    )\n",
    "\n",
    "    resp = response.choices[0].message.content\n",
    "    sql = resp.strip().split('```sql')[1].split(\n",
    "        '```')[0].strip()  # Extract SQL query from response\n",
    "    sql_queries.append(sql)\n",
    "    print(user_query, ':', sql)\n",
    "    print('-' * 80)\n",
    "    print()"
   ],
   "id": "c3ab62398ed5d7",
   "outputs": [
    {
     "name": "stdout",
     "output_type": "stream",
     "text": [
      "What's the release year of 'Food Dogs Of The Age Music Theory'? : SELECT release_year\n",
      "FROM movies\n",
      "WHERE title = 'Food Dogs Of The Age Music Theory';\n",
      "--------------------------------------------------------------------------------\n",
      "\n",
      "Who directed the movie 'Food Dogs Of The Age Music Theory'? : -- Retrieve the director of a specific movie\n",
      "SELECT d.name AS director_name\n",
      "FROM movies m\n",
      "JOIN directors d ON m.director_id = d.id\n",
      "WHERE m.title = 'Food Dogs Of The Age Music Theory';\n",
      "--------------------------------------------------------------------------------\n",
      "\n",
      "List all actors in the movie 'Food Dogs Of The Age Music Theory'. : SELECT DISTINCT a.name\n",
      "FROM actors AS a\n",
      "JOIN cast_members AS cm   ON a.id = cm.actor_id\n",
      "JOIN movies      AS m     ON cm.movie_id = m.id\n",
      "WHERE m.title = 'Food Dogs Of The Age Music Theory';\n",
      "--------------------------------------------------------------------------------\n",
      "\n",
      "What are the genres of the movie 'Food Dogs Of The Age Music Theory'? : SELECT g.name AS genre\n",
      "FROM movies m\n",
      "JOIN movie_genre mg ON m.id = mg.movie_id          -- link movies to their genre assignments\n",
      "JOIN genres g      ON mg.genre_id = g.id           -- pull the actual genre names\n",
      "WHERE m.title = 'Food Dogs Of The Age Music Theory';\n",
      "--------------------------------------------------------------------------------\n",
      "\n"
     ]
    }
   ],
   "execution_count": 5
  },
  {
   "metadata": {},
   "cell_type": "markdown",
   "source": "Let's execute the SQL queries against the database and get the results.",
   "id": "938de7f423e87b55"
  },
  {
   "metadata": {
    "ExecuteTime": {
     "end_time": "2025-08-16T17:35:09.005874Z",
     "start_time": "2025-08-16T17:35:08.998820Z"
    }
   },
   "cell_type": "code",
   "source": [
    "for sql in sql_queries:\n",
    "    try:\n",
    "        print(pd.read_sql(sql, engine).to_markdown(index=False))\n",
    "    except Exception as e:\n",
    "        print(f\"Error executing query: {e}\")\n",
    "    print('-' * 80)\n",
    "    print()"
   ],
   "id": "cccb0890e394ff39",
   "outputs": [
    {
     "name": "stdout",
     "output_type": "stream",
     "text": [
      "|   release_year |\n",
      "|---------------:|\n",
      "|           1989 |\n",
      "--------------------------------------------------------------------------------\n",
      "\n",
      "Error executing query: (sqlite3.OperationalError) no such column: d.name\n",
      "[SQL: -- Retrieve the director of a specific movie\n",
      "SELECT d.name AS director_name\n",
      "FROM movies m\n",
      "JOIN directors d ON m.director_id = d.id\n",
      "WHERE m.title = 'Food Dogs Of The Age Music Theory';]\n",
      "(Background on this error at: https://sqlalche.me/e/20/e3q8)\n",
      "--------------------------------------------------------------------------------\n",
      "\n",
      "Error executing query: (sqlite3.OperationalError) no such column: a.name\n",
      "[SQL: SELECT DISTINCT a.name\n",
      "FROM actors AS a\n",
      "JOIN cast_members AS cm   ON a.id = cm.actor_id\n",
      "JOIN movies      AS m     ON cm.movie_id = m.id\n",
      "WHERE m.title = 'Food Dogs Of The Age Music Theory';]\n",
      "(Background on this error at: https://sqlalche.me/e/20/e3q8)\n",
      "--------------------------------------------------------------------------------\n",
      "\n",
      "Error executing query: (sqlite3.OperationalError) no such table: movie_genre\n",
      "[SQL: SELECT g.name AS genre\n",
      "FROM movies m\n",
      "JOIN movie_genre mg ON m.id = mg.movie_id          -- link movies to their genre assignments\n",
      "JOIN genres g      ON mg.genre_id = g.id           -- pull the actual genre names\n",
      "WHERE m.title = 'Food Dogs Of The Age Music Theory';]\n",
      "(Background on this error at: https://sqlalche.me/e/20/e3q8)\n",
      "--------------------------------------------------------------------------------\n",
      "\n"
     ]
    }
   ],
   "execution_count": 6
  },
  {
   "metadata": {},
   "cell_type": "markdown",
   "source": "Lets Retry with schema details/data dictionary",
   "id": "390966ecee493bbd"
  },
  {
   "metadata": {
    "ExecuteTime": {
     "end_time": "2025-08-16T17:36:07.050440Z",
     "start_time": "2025-08-16T17:35:49.763780Z"
    }
   },
   "cell_type": "code",
   "source": [
    "database_schema = '''\n",
    "\n",
    "#### 1\\. `movies` Table\n",
    "\n",
    "  * **Description:** Stores core information about each movie.\n",
    "  * **Columns:**\n",
    "      * `movie_id` (INTEGER, Primary Key): Unique identifier for the movie.\n",
    "      * `title` (TEXT, NOT NULL): The title of the movie.\n",
    "      * `release_year` (INTEGER): The year the movie was released.\n",
    "      * `duration_minutes` (INTEGER): The length of the movie in minutes.\n",
    "      * `synopsis` (TEXT): A brief summary of the movie's plot.\n",
    "      * `budget_usd` (REAL): The production budget of the movie in USD.\n",
    "      * `box_office_gross_usd` (REAL): The worldwide box office revenue in USD.\n",
    "      * `director_id` (INTEGER, Foreign Key to `directors.director_id`): The director of the movie.\n",
    "      * `studio_id` (INTEGER, Foreign Key to `studios.studio_id`): The studio that produced the movie.\n",
    "\n",
    "#### 2\\. `actors` Table\n",
    "\n",
    "  * **Description:** Stores information about individual actors.\n",
    "  * **Columns:**\n",
    "      * `actor_id` (INTEGER, Primary Key): Unique identifier for the actor.\n",
    "      * `actor_name` (TEXT, NOT NULL): The full name of the actor.\n",
    "      * `birth_date` (TEXT): The actor's birth date (YYYY-MM-DD format).\n",
    "      * `nationality` (TEXT): The actor's nationality.\n",
    "\n",
    "#### 3\\. `directors` Table\n",
    "\n",
    "  * **Description:** Stores information about movie directors.\n",
    "  * **Columns:**\n",
    "      * `director_id` (INTEGER, Primary Key): Unique identifier for the director.\n",
    "      * `director_name` (TEXT, NOT NULL): The full name of the director.\n",
    "      * `birth_date` (TEXT): The director's birth date (YYYY-MM-DD format).\n",
    "      * `nationality` (TEXT): The director's nationality.\n",
    "\n",
    "#### 4\\. `studios` Table\n",
    "\n",
    "  * **Description:** Stores information about movie production studios.\n",
    "  * **Columns:**\n",
    "      * `studio_id` (INTEGER, Primary Key): Unique identifier for the studio.\n",
    "      * `studio_name` (TEXT, NOT NULL): The name of the studio.\n",
    "      * `founded_year` (INTEGER): The year the studio was founded.\n",
    "      * `country` (TEXT): The country where the studio is primarily based.\n",
    "\n",
    "#### 5\\. `genres` Table\n",
    "\n",
    "  * **Description:** Stores a list of movie genres.\n",
    "  * **Columns:**\n",
    "      * `genre_id` (INTEGER, Primary Key): Unique identifier for the genre.\n",
    "      * `genre_name` (TEXT, NOT NULL, UNIQUE): The name of the genre (e.g., \"Action\", \"Drama\", \"Sci-Fi\").\n",
    "\n",
    "#### 6\\. `cast_members` Table (Junction Table)\n",
    "\n",
    "  * **Description:** Links movies to actors, specifying the role an actor played in a particular movie. This handles the many-to-many relationship between `movies` and `actors`.\n",
    "  * **Columns:**\n",
    "      * `cast_id` (INTEGER, Primary Key): Unique identifier for a cast entry.\n",
    "      * `movie_id` (INTEGER, Foreign Key to `movies.movie_id`): The movie ID.\n",
    "      * `actor_id` (INTEGER, Foreign Key to `actors.actor_id`): The actor ID.\n",
    "      * `role_name` (TEXT): The name of the character played by the actor in that movie.\n",
    "\n",
    "#### 7\\. `movie_genres` Table (Junction Table)\n",
    "\n",
    "  * **Description:** Links movies to genres, allowing a movie to have multiple genres. This handles the many-to-many relationship between `movies` and `genres`.\n",
    "  * **Columns:**\n",
    "      * `movie_id` (INTEGER, Foreign Key to `movies.movie_id`): The movie ID.\n",
    "      * `genre_id` (INTEGER, Foreign Key to `genres.genre_id`): The genre ID.\n",
    "      * (Composite Primary Key: `movie_id`, `genre_id` to ensure unique genre assignments per movie).\n",
    "\n",
    "#### 8\\. `reviews` Table\n",
    "\n",
    "  * **Description:** Stores user reviews and ratings for movies.\n",
    "  * **Columns:**\n",
    "      * `review_id` (INTEGER, Primary Key): Unique identifier for the review.\n",
    "      * `movie_id` (INTEGER, Foreign Key to `movies.movie_id`): The movie being reviewed.\n",
    "      * `reviewer_name` (TEXT): The name or alias of the reviewer.\n",
    "      * `rating` (INTEGER): The numerical rating given (e.g., 1-10).\n",
    "      * `review_text` (TEXT): The full text of the review.\n",
    "      * `review_date` (TEXT): The date the review was posted (YYYY-MM-DD format).\n",
    "\n",
    "'''\n",
    "\n",
    "# Sample Queries\n",
    "prompt = \"\"\"\n",
    "You are an AI assistant that can answer questions about a movie database.\n",
    "The database contains information about movies, directors, actors, studios, genres, cast members, and reviews.\n",
    "Your task is to answer the user's query based on the provided database information.\n",
    "\n",
    "User Query: {user_query}\n",
    "\n",
    "Generate a SQL query to retrieve the requested information from the database.\n",
    "database: sqlite:///movies.db\n",
    "schema details:\n",
    "{database_schema}\n",
    "\"\"\"\n",
    "\n",
    "sql_queries = []\n",
    "for user_query in user_queries:\n",
    "    response = lm_studio_client.chat.completions.create(\n",
    "        model=LM_STUDIO_MODEL,\n",
    "        messages=[\n",
    "            {\"role\": \"user\", \"content\": prompt.format(user_query=user_query, database_schema=database_schema)}\n",
    "        ]\n",
    "    )\n",
    "\n",
    "    resp = response.choices[0].message.content\n",
    "    sql = resp.strip().split('```sql')[1].split(\n",
    "        '```')[0].strip()  # Extract SQL query from response\n",
    "    sql_queries.append(sql)\n",
    "    print(user_query, ':', sql)\n",
    "    print('-' * 80)\n",
    "    print()\n",
    "\n",
    "    for sql in sql_queries:\n",
    "        try:\n",
    "            print(pd.read_sql(sql, engine).to_markdown(index=False))\n",
    "        except Exception as e:\n",
    "            print(f\"Error executing query: {e}\")\n",
    "        print('-' * 80)\n",
    "        print()"
   ],
   "id": "7de4e8d8097e90f6",
   "outputs": [
    {
     "name": "stdout",
     "output_type": "stream",
     "text": [
      "What's the release year of 'Food Dogs Of The Age Music Theory'? : SELECT release_year\n",
      "FROM movies\n",
      "WHERE title = 'Food Dogs Of The Age Music Theory';\n",
      "--------------------------------------------------------------------------------\n",
      "\n",
      "|   release_year |\n",
      "|---------------:|\n",
      "|           1989 |\n",
      "--------------------------------------------------------------------------------\n",
      "\n",
      "Who directed the movie 'Food Dogs Of The Age Music Theory'? : SELECT d.director_name\n",
      "FROM directors AS d\n",
      "JOIN movies      AS m ON d.director_id = m.director_id\n",
      "WHERE m.title = 'Food Dogs Of The Age Music Theory';\n",
      "--------------------------------------------------------------------------------\n",
      "\n",
      "|   release_year |\n",
      "|---------------:|\n",
      "|           1989 |\n",
      "--------------------------------------------------------------------------------\n",
      "\n",
      "| director_name   |\n",
      "|:----------------|\n",
      "| saucy-segno     |\n",
      "--------------------------------------------------------------------------------\n",
      "\n",
      "List all actors in the movie 'Food Dogs Of The Age Music Theory'. : SELECT a.actor_name\n",
      "FROM actors AS a\n",
      "JOIN cast_members AS cm ON a.actor_id = cm.actor_id\n",
      "JOIN movies       AS m  ON cm.movie_id   = m.movie_id\n",
      "WHERE m.title = 'Food Dogs Of The Age Music Theory';\n",
      "--------------------------------------------------------------------------------\n",
      "\n",
      "|   release_year |\n",
      "|---------------:|\n",
      "|           1989 |\n",
      "--------------------------------------------------------------------------------\n",
      "\n",
      "| director_name   |\n",
      "|:----------------|\n",
      "| saucy-segno     |\n",
      "--------------------------------------------------------------------------------\n",
      "\n",
      "| actor_name       |\n",
      "|:-----------------|\n",
      "| tranquil-miter   |\n",
      "| weighted-message |\n",
      "| dynamic-diatonic |\n",
      "| hoary-chest      |\n",
      "| skinny-spore     |\n",
      "--------------------------------------------------------------------------------\n",
      "\n",
      "What are the genres of the movie 'Food Dogs Of The Age Music Theory'? : SELECT g.genre_name\n",
      "FROM movies m\n",
      "JOIN movie_genres mg ON m.movie_id = mg.movie_id\n",
      "JOIN genres g      ON mg.genre_id  = g.genre_id\n",
      "WHERE m.title = 'Food Dogs Of The Age Music Theory';\n",
      "--------------------------------------------------------------------------------\n",
      "\n",
      "|   release_year |\n",
      "|---------------:|\n",
      "|           1989 |\n",
      "--------------------------------------------------------------------------------\n",
      "\n",
      "| director_name   |\n",
      "|:----------------|\n",
      "| saucy-segno     |\n",
      "--------------------------------------------------------------------------------\n",
      "\n",
      "| actor_name       |\n",
      "|:-----------------|\n",
      "| tranquil-miter   |\n",
      "| weighted-message |\n",
      "| dynamic-diatonic |\n",
      "| hoary-chest      |\n",
      "| skinny-spore     |\n",
      "--------------------------------------------------------------------------------\n",
      "\n",
      "| genre_name   |\n",
      "|--------------|\n",
      "--------------------------------------------------------------------------------\n",
      "\n"
     ]
    }
   ],
   "execution_count": 8
  }
 ],
 "metadata": {
  "kernelspec": {
   "display_name": "Python 3",
   "language": "python",
   "name": "python3"
  },
  "language_info": {
   "codemirror_mode": {
    "name": "ipython",
    "version": 2
   },
   "file_extension": ".py",
   "mimetype": "text/x-python",
   "name": "python",
   "nbconvert_exporter": "python",
   "pygments_lexer": "ipython2",
   "version": "2.7.6"
  }
 },
 "nbformat": 4,
 "nbformat_minor": 5
}
